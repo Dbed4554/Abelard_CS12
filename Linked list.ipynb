{
 "cells": [
  {
   "cell_type": "code",
   "execution_count": 11,
   "metadata": {},
   "outputs": [
    {
     "name": "stdout",
     "output_type": "stream",
     "text": [
      "8\n"
     ]
    }
   ],
   "source": [
    "class Node(object):\n",
    "    def __init__(self,d,n=None):\n",
    "        self.data=d\n",
    "        self.next_node=n\n",
    "    def get_next(self):\n",
    "        return self.next_node\n",
    "    def set_next(self,n):\n",
    "        self.next_node = n\n",
    "    def __str__(self):\n",
    "        return str(self.data) +\"->\"+ str(self.next_node)\n",
    "    def get_data(self):\n",
    "        return self.data\n",
    "    def set_data(self, d):\n",
    "        self.data = d\n",
    "    \n",
    "\n",
    "\n",
    "        \n",
    "\n",
    "class linkedlist(object):\n",
    "    def __init__(self, r = None,):\n",
    "        self.root = r\n",
    "        self.size = 0\n",
    "    def prepend(self, data):\n",
    "        new_head = Node(data)\n",
    "        new_head.next_node = self.root\n",
    "        self.head = new_head\n",
    "    def append(self, d):\n",
    "        new_node=Node (d, self.root)\n",
    "        self.root = new_node\n",
    "        self.size += 1\n",
    "    def __setitem__(self, key, item):\n",
    "        if key == 0 or not self.root:\n",
    "            self.prepend(item)\n",
    "        else:\n",
    "            node_to_insert = Node(item)\n",
    "            iter_node = self.root\n",
    "            pos = key\n",
    "            while pos>1 and iter_node.next_node:\n",
    "                iter_node = iter_node.next_node\n",
    "                pos-=1\n",
    "            node_to_insert.next_node = iter_node.next_node\n",
    "            iter_node.next_node = node_to_insert\n",
    "\n",
    "    def __getitem__(self, key):\n",
    "        if not self.root:\n",
    "            return None\n",
    "        else:\n",
    "            iter_node = self.root\n",
    "            pos = key\n",
    "            while pos>0 and iter_node.next_node:\n",
    "                iter_node = iter_node.next_node\n",
    "                pos-=1\n",
    "            return iter_node.data\n",
    "    def __len__(self):\n",
    "        return self.size\n",
    "    def __str__(self):\n",
    "        return str(self.root)\n",
    "    def __delitem__(self,n):\n",
    "        current = self.root\n",
    "        prev = None\n",
    "        while current:\n",
    "            if current.get_data() == n:\n",
    "                if prev:\n",
    "                    prev.set_next(current.get_next())\n",
    "                else:\n",
    "                    self.root = current\n",
    "                self.size -= 1\n",
    "                return True\n",
    "            else:\n",
    "                prev = current\n",
    "                current = current.get_next()\n",
    "    def __iter__(self):\n",
    "        current = self.root\n",
    "        while current is not None:\n",
    "            yield current.data\n",
    "            current = current.next_node\n",
    "            \n",
    "                                  \n",
    "        \n",
    "mylist = linkedlist()\n",
    "mylist.append(2)\n",
    "mylist.append(3)\n",
    "mylist.append(1)\n",
    "mylist.append(5)\n",
    "\n",
    "def selection(x):\n",
    "    for i in range(len(x)):\n",
    "        for j in range(i, len(x)):\n",
    "            if(x[i] > x[j]):\n",
    "                x[i]= x[j]\n",
    "                x[j]=x[i]\n",
    "    return(x)\n",
    "selection(mylist)"
   ]
  },
  {
   "cell_type": "code",
   "execution_count": 9,
   "metadata": {},
   "outputs": [
    {
     "name": "stdout",
     "output_type": "stream",
     "text": [
      "[5, 12, 8]\n"
     ]
    },
    {
     "data": {
      "text/plain": [
       "<__main__.linkedlist at 0x10f717b70>"
      ]
     },
     "execution_count": 9,
     "metadata": {},
     "output_type": "execute_result"
    }
   ],
   "source": [
    "class linkedListNode:\n",
    "    def __init__(self, value, nextNode=None):\n",
    "        self.value = value\n",
    "        self.nextNode = nextNode\n",
    "\n",
    "node1 = linkedListNode(\"3\") \n",
    "node2 = linkedListNode(\"7\")\n",
    "node3 = linkedListNode(\"10\")\n",
    "\n",
    "node1.nextNode = node2 \n",
    "node2.nextNode = node3 \n",
    "\n",
    "def selection(x):\n",
    "    for i in range(len(x)):\n",
    "        for j in range(i,len(x)):\n",
    "            if(x[i] > x[j]):\n",
    "                x[i], x[j] = x[j], x[i]\n",
    "    print(x)\n",
    "    return x\n",
    "\n",
    "selection(mylist2)\n"
   ]
  },
  {
   "cell_type": "code",
   "execution_count": null,
   "metadata": {
    "collapsed": true
   },
   "outputs": [],
   "source": []
  }
 ],
 "metadata": {
  "kernelspec": {
   "display_name": "Python 3",
   "language": "python",
   "name": "python3"
  },
  "language_info": {
   "codemirror_mode": {
    "name": "ipython",
    "version": 3
   },
   "file_extension": ".py",
   "mimetype": "text/x-python",
   "name": "python",
   "nbconvert_exporter": "python",
   "pygments_lexer": "ipython3",
   "version": "3.6.1"
  }
 },
 "nbformat": 4,
 "nbformat_minor": 2
}
